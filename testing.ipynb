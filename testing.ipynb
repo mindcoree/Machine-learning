{
 "cells": [
  {
   "cell_type": "code",
   "id": "initial_id",
   "metadata": {
    "collapsed": true,
    "jupyter": {
     "is_executing": true
    }
   },
   "source": [
    "import numpy as np\n",
    "\n",
    "np.random.seed(0) # псевдослучайные числа образуют одну и ту же последовательность (при каждом запуске)\n",
    "x = np.arange(-1.0, 1.0, 0.1) # аргумент [-1; 1] с шагом 0,1\n",
    "\n",
    "\n",
    "model_a = lambda xx, ww: (ww[0] + ww[1] * xx) # модель\n",
    "Y = -5.2 + 0.7 * x + np.random.normal(0, 0.1, len(x)) # вектор целевых значений\n",
    "\n",
    "\n",
    "# здесь продолжайте программу"
   ],
   "outputs": [],
   "execution_count": null
  },
  {
   "metadata": {
    "ExecuteTime": {
     "end_time": "2025-10-17T19:40:14.129351Z",
     "start_time": "2025-10-17T19:40:14.125858Z"
    }
   },
   "cell_type": "code",
   "source": [
    "ones_col = np.ones(x.shape[0])\n",
    "X = np.vstack((np.ones(20),x)).T\n",
    "X.shape\n"
   ],
   "id": "255ed0c35b4be405",
   "outputs": [
    {
     "data": {
      "text/plain": [
       "(20, 2)"
      ]
     },
     "execution_count": 34,
     "metadata": {},
     "output_type": "execute_result"
    }
   ],
   "execution_count": 34
  },
  {
   "metadata": {
    "ExecuteTime": {
     "end_time": "2025-10-17T19:49:35.609035Z",
     "start_time": "2025-10-17T19:49:35.606720Z"
    }
   },
   "cell_type": "code",
   "source": "np.linalg.inv(X.T @ X) @ X.T @ Y",
   "id": "55a67109fd3184a",
   "outputs": [
    {
     "data": {
      "text/plain": [
       "array([-5.14605924,  0.64014601])"
      ]
     },
     "execution_count": 36,
     "metadata": {},
     "output_type": "execute_result"
    }
   ],
   "execution_count": 36
  },
  {
   "metadata": {
    "ExecuteTime": {
     "end_time": "2025-10-28T04:08:35.781288Z",
     "start_time": "2025-10-28T04:08:35.767775Z"
    }
   },
   "cell_type": "code",
   "source": [
    "import numpy as np\n",
    "import math\n",
    "\n",
    "N = 1_000_000\n",
    "R = 1/4\n",
    "\n",
    "x = np.random.rand(N)\n",
    "y = np.random.rand(N)\n",
    "\n",
    "inside = ((x - 0.5)**2 + (y-0.5)**2) <= R**2\n",
    "\n",
    "\n",
    "pi = np.mean(inside) * 16\n",
    "\n",
    "print(pi)"
   ],
   "id": "235b3e0eb44e91b0",
   "outputs": [
    {
     "name": "stdout",
     "output_type": "stream",
     "text": [
      "3.142416\n"
     ]
    }
   ],
   "execution_count": 8
  },
  {
   "metadata": {
    "ExecuteTime": {
     "end_time": "2025-10-28T04:08:28.591037Z",
     "start_time": "2025-10-28T04:08:28.589436Z"
    }
   },
   "cell_type": "code",
   "source": "",
   "id": "4a1076675784c67d",
   "outputs": [],
   "execution_count": null
  },
  {
   "metadata": {},
   "cell_type": "code",
   "outputs": [],
   "execution_count": null,
   "source": "",
   "id": "79dfd6cf4f84622d"
  }
 ],
 "metadata": {
  "kernelspec": {
   "display_name": "Python 3",
   "language": "python",
   "name": "python3"
  },
  "language_info": {
   "codemirror_mode": {
    "name": "ipython",
    "version": 2
   },
   "file_extension": ".py",
   "mimetype": "text/x-python",
   "name": "python",
   "nbconvert_exporter": "python",
   "pygments_lexer": "ipython2",
   "version": "2.7.6"
  }
 },
 "nbformat": 4,
 "nbformat_minor": 5
}
