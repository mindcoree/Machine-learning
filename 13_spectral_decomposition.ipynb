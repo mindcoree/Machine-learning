{
 "cells": [
  {
   "cell_type": "markdown",
   "id": "add2c857",
   "metadata": {},
   "source": [
    "**13.\tНайдите спектральное разложение матрицы A с помощью python. Используйте функцию numpy.linalg.eigh, которая поможет рассчитать собственные числа и векторы матрицы.**\n",
    "\n",
    "$A = V ∙ Λ ∙ V^{-1} $"
   ]
  },
  {
   "cell_type": "code",
   "execution_count": 1,
   "id": "25019773",
   "metadata": {},
   "outputs": [],
   "source": [
    "import numpy as np\n",
    "from numpy.ma.extras import hstack\n",
    "\n",
    "\n",
    "def spectral_decomposition(matrix):\n",
    "\n",
    "    #Найдем собственные значения и векторы матрицы\n",
    "    eigenvalues, eigenvectors = np.linalg.eigh(matrix)\n",
    "    \n",
    "    print(\"Собственные значения:\\n\")\n",
    "    for i, eigenvalue in enumerate(eigenvalues):\n",
    "        print(f\"λ{i+1} = {eigenvalue}\\n\")\n",
    "\n",
    "    print(\"Собственные векторы:\\n\")\n",
    "    for i, eigenvector in enumerate(eigenvectors.T):\n",
    "        print(f\"V{i+1} = {eigenvector}\\n\")\n",
    "        \n",
    "    #Собственные значения составляют диагональ матрицы лямбда\n",
    "    lambda_matrix = np.diag(eigenvalues)\n",
    "    \n",
    "    #Собственные векторы составляют матрицу V и обратную V\n",
    "    V_matrix = eigenvectors\n",
    "    inv_V_matrix = np.linalg.inv(V_matrix)\n",
    "    \n",
    "    #Проверим, что произведение компонент разложения равно исходной матрице\n",
    "    temp = np.dot(V_matrix, lambda_matrix)\n",
    "    result = np.dot(temp, inv_V_matrix)\n",
    "    \n",
    "    print('Произведение компонент разложения: \\n')\n",
    "    print(result)"
   ]
  },
  {
   "cell_type": "code",
   "execution_count": 2,
   "id": "41077e1d",
   "metadata": {},
   "outputs": [
    {
     "name": "stdout",
     "output_type": "stream",
     "text": [
      "Собственные значения:\n",
      "\n",
      "λ1 = -3.020699255079208\n",
      "\n",
      "λ2 = 1.6652777053317827\n",
      "\n",
      "λ3 = 7.355421549747427\n",
      "\n",
      "Собственные векторы:\n",
      "\n",
      "V1 = [ 0.77532334 -0.2934401  -0.55925542]\n",
      "\n",
      "V2 = [ 0.1440438  -0.78000906  0.60896408]\n",
      "\n",
      "V3 = [-0.61491877 -0.55270134 -0.562491  ]\n",
      "\n",
      "Произведение компонент разложения: \n",
      "\n",
      "[[1. 3. 4.]\n",
      " [3. 3. 1.]\n",
      " [4. 1. 2.]]\n"
     ]
    }
   ],
   "source": [
    "A = np.array([[1., 3., 4.],\n",
    "              [3., 3., 1.],\n",
    "              [4., 1., 2.]])\n",
    "\n",
    "spectral_decomposition(A)"
   ]
  },
  {
   "metadata": {
    "ExecuteTime": {
     "end_time": "2025-10-26T19:43:47.426572Z",
     "start_time": "2025-10-26T19:43:47.421104Z"
    }
   },
   "cell_type": "code",
   "source": [
    "import numpy as np\n",
    "\n",
    "data_x = np.array([(5.8, 1.2), (5.6, 1.5), (6.5, 1.5), (6.1, 1.3), (6.4, 1.3), (7.7, 2.0), (6.0, 1.8), (5.6, 1.3), (6.0, 1.6), (5.8, 1.9), (5.7, 2.0), (6.3, 1.5), (6.2, 1.8), (7.7, 2.3), (5.8, 1.2), (6.3, 1.8), (6.0, 1.0), (6.2, 1.3), (5.7, 1.3), (6.3, 1.9), (6.7, 2.5), (5.5, 1.2), (4.9, 1.0), (6.1, 1.4), (6.0, 1.6), (7.2, 2.5), (7.3, 1.8), (6.6, 1.4), (5.6, 2.0), (5.5, 1.0), (6.4, 2.2), (5.6, 1.3), (6.6, 1.3), (6.9, 2.1), (6.8, 2.1), (5.7, 1.3), (7.0, 1.4), (6.1, 1.4), (6.1, 1.8), (6.7, 1.7), (6.0, 1.5), (6.5, 1.8), (6.4, 1.5), (6.9, 1.5), (5.6, 1.3), (6.7, 1.4), (5.8, 1.9), (6.3, 1.3), (6.7, 2.1), (6.2, 2.3), (6.3, 2.4), (6.7, 1.8), (6.4, 2.3), (6.2, 1.5), (6.1, 1.4), (7.1, 2.1), (5.7, 1.0), (6.8, 1.4), (6.8, 2.3), (5.1, 1.1), (4.9, 1.7), (5.9, 1.8), (7.4, 1.9), (6.5, 2.0), (6.7, 1.5), (6.5, 2.0), (5.8, 1.0), (6.4, 2.1), (7.6, 2.1), (5.8, 2.4), (7.7, 2.2), (6.3, 1.5), (5.0, 1.0), (6.3, 1.6), (7.7, 2.3), (6.4, 1.9), (6.5, 2.2), (5.7, 1.2), (6.9, 2.3), (5.7, 1.3), (6.1, 1.2), (5.4, 1.5), (5.2, 1.4), (6.7, 2.3), (7.9, 2.0), (5.6, 1.1), (7.2, 1.8), (5.5, 1.3), (7.2, 1.6), (6.3, 2.5), (6.3, 1.8), (6.7, 2.4), (5.0, 1.0), (6.4, 1.8), (6.9, 2.3), (5.5, 1.3), (5.5, 1.1), (5.9, 1.5), (6.0, 1.5), (5.9, 1.8)])\n",
    "data_y = np.array([-1, -1, -1, -1, -1, 1, 1, -1, -1, 1, 1, -1, 1, 1, -1, 1, -1, -1, -1, 1, 1, -1, -1, -1, -1, 1, 1, -1, 1, -1, 1, -1, -1, 1, 1, -1, -1, 1, 1, -1, 1, 1, -1, -1, -1, -1, 1, -1, 1, 1, 1, 1, 1, -1, -1, 1, -1, -1, 1, -1, 1, -1, 1, 1, -1, 1, -1, 1, 1, 1, 1, 1, -1, -1, 1, 1, 1, -1, 1, -1, -1, -1, -1, 1, 1, -1, 1, -1, 1, 1, 1, 1, -1, 1, 1, -1, -1, -1, -1, 1])\n",
    "\n",
    "# здесь продолжайте программу"
   ],
   "id": "4bcf85a2a7c665b4",
   "outputs": [],
   "execution_count": 3
  },
  {
   "metadata": {
    "ExecuteTime": {
     "end_time": "2025-10-26T19:46:25.113354Z",
     "start_time": "2025-10-26T19:46:25.110186Z"
    }
   },
   "cell_type": "code",
   "source": [
    "import numpy as np\n",
    "\n",
    "# добавим столбец единиц для свободного члена\n",
    "X = np.hstack((np.ones((data_x.shape[0], 1)), data_x))\n",
    "y = data_y.reshape(-1, 1)  # делаем столбец-вектор\n",
    "\n",
    "w = np.linalg.inv(X.T@X) @ X.T @ y\n",
    "#\n",
    "# # считаем отступы (margins)\n",
    "a = w.T @ X.T\n",
    "margin = a * data_y\n",
    "#\n",
    "# # считаем Q = sum (1 - margin)^2\n",
    "Q = np.sum((1 - margin) ** 2)\n",
    "w\n",
    "# -3.313071\n",
    "# 0.006175\n",
    "# 1.953703\n",
    "X.T@(X@w - y)\n"
   ],
   "id": "4db8ec52368537ea",
   "outputs": [
    {
     "data": {
      "text/plain": [
       "array([[1.35447209e-13],\n",
       "       [1.62003744e-12],\n",
       "       [4.07673895e-13]])"
      ]
     },
     "execution_count": 15,
     "metadata": {},
     "output_type": "execute_result"
    }
   ],
   "execution_count": 15
  },
  {
   "metadata": {
    "ExecuteTime": {
     "end_time": "2025-10-27T16:40:29.758446Z",
     "start_time": "2025-10-27T16:40:29.750924Z"
    }
   },
   "cell_type": "code",
   "source": [
    "import numpy as np\n",
    "\n",
    "# исходная функция, которую нужно аппроксимировать моделью a(x)\n",
    "def func(x):\n",
    "    return 0.1 * x**2 - np.sin(x) + 5.\n",
    "\n",
    "\n",
    "# здесь объявляйте необходимые функции\n",
    "\n",
    "coord_x = np.arange(-5.0, 5.0, 0.1).reshape(-1,1) # значения по оси абсцисс [-5; 5] с шагом 0.1\n",
    "coord_y = func(coord_x).reshape(-1,1) # значения функции по оси ординат\n",
    "\n",
    "sz = len(coord_x)\t# количество значений функций (точек)\n",
    "eta = np.array([0.1, 0.01, 0.001, 0.0001]).reshape(-1,1) # шаг обучения для каждого параметра w0, w1, w2, w3\n",
    "w = np.array([.0,.0, .0,.0]).reshape(-1,1) # начальные значения параметров модели\n",
    "N = 200 # число итераций градиентного алгоритма\n",
    "X = np.hstack((np.ones((coord_x.shape[0],1)),coord_x,coord_x**2,coord_x**3))\n",
    "fx = coord_y\n",
    "for _ in range(N):\n",
    "    gradient = 2/sz * X.T @ (X@w - fx)\n",
    "    w -= eta * gradient\n",
    "Q = np.mean((X@w - fx)**2)\n",
    "\n"
   ],
   "id": "321e94b7d18ec3a9",
   "outputs": [],
   "execution_count": 128
  },
  {
   "metadata": {},
   "cell_type": "code",
   "outputs": [],
   "execution_count": null,
   "source": "",
   "id": "88d658f3e9acf510"
  }
 ],
 "metadata": {
  "kernelspec": {
   "display_name": "Python 3 (ipykernel)",
   "language": "python",
   "name": "python3"
  },
  "language_info": {
   "codemirror_mode": {
    "name": "ipython",
    "version": 3
   },
   "file_extension": ".py",
   "mimetype": "text/x-python",
   "name": "python",
   "nbconvert_exporter": "python",
   "pygments_lexer": "ipython3",
   "version": "3.9.12"
  }
 },
 "nbformat": 4,
 "nbformat_minor": 5
}
