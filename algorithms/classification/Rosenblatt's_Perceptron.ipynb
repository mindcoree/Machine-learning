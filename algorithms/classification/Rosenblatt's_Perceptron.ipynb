{
 "cells": [
  {
   "metadata": {},
   "cell_type": "markdown",
   "source": [
    "### 🧠 **Описание работы алгоритма (перцептрон)**\n",
    "\n",
    "В этом коде реализован **простой алгоритм линейной классификации — перцептрон**.\n",
    "Он пытается найти такую прямую (или гиперплоскость), которая разделяет два класса точек — с метками `+1` и `-1`.\n",
    "\n",
    "---\n",
    "\n",
    "### 🔹 1. Подготовка данных\n",
    "\n",
    "```python\n",
    "x_train = np.array([...])  # координаты точек (обучающая выборка)\n",
    "y_train = np.array([...])  # метки классов: +1 или -1\n",
    "```\n",
    "\n",
    "Каждая строка `x_train` — это вектор признаков точки (например, ширина и длина).\n",
    "`y_train` указывает, к какому классу принадлежит точка.\n",
    "\n",
    "---\n",
    "\n",
    "### 🔹 2. Инициализация параметров\n",
    "\n",
    "```python\n",
    "w = np.array([0.8, 0.9])  # веса (вектор нормали)\n",
    "b = -10                   # смещение (bias)\n",
    "```\n",
    "\n",
    "* `w` задаёт направление и ориентацию разделяющей прямой.\n",
    "* `b` — отвечает за её положение (сдвиг вверх/вниз).\n",
    "\n",
    "---\n",
    "\n",
    "### 🔹 3. Правило классификации\n",
    "\n",
    "Для каждой точки вычисляется **активация**:\n",
    "[\n",
    "a(x) = w^T x + b\n",
    "]\n",
    "\n",
    "* Если `a(x) > 0`, модель относит точку к классу `+1`.\n",
    "* Если `a(x) < 0` — к классу `-1`.\n",
    "\n",
    "---\n",
    "\n",
    "### 🔹 4. Обновление весов\n",
    "\n",
    "Во время обучения (цикла по всем точкам):\n",
    "\n",
    "```python\n",
    "if y_i * a(x_i) <= 0:\n",
    "    w += η * y_i * x_i\n",
    "    b += η * y_i\n",
    "```\n",
    "\n",
    "Если точка классифицирована **неверно**, веса `w` и смещение `b` **корректируются** — прямая немного поворачивается или сдвигается, чтобы точка оказалась по правильную сторону.\n",
    "\n",
    "* `η` — **скорость обучения** (learning rate)\n",
    "* Коррекция идёт **в направлении метки `y_i`**\n",
    "\n",
    "---\n",
    "\n",
    "### 🔹 5. Условие останова\n",
    "\n",
    "```python\n",
    "if errors == 0:\n",
    "    break\n",
    "```\n",
    "\n",
    "Если за проход по всем точкам не было ошибок классификации, обучение завершается — значит, прямая нашла корректное разделение.\n",
    "\n",
    "---\n",
    "\n",
    "### 🔹 6. Визуализация\n",
    "\n",
    "На графике отображаются:\n",
    "\n",
    "* Красные и синие точки (`y = 1` и `y = -1`)\n",
    "* Зелёная разделяющая линия\n",
    "* Фиолетовый **вектор нормали `w`**, который перпендикулярен линии и указывает, в какую сторону модель классифицирует как `+1`.\n",
    "\n",
    "---\n",
    "\n",
    "### 💬 Интуиция\n",
    "\n",
    "Перцептрон постепенно подстраивает плоскость так, чтобы:\n",
    "\n",
    "* точки класса `+1` оказались по одну сторону линии ( w^T x + b = 0 ),\n",
    "* а точки `-1` — по другую.\n",
    "\n",
    "Вектор `w` всегда **смотрит в сторону класса +1**."
   ],
   "id": "e4e9abb3a883564f"
  },
  {
   "metadata": {
    "ExecuteTime": {
     "end_time": "2025-10-23T17:56:32.379615Z",
     "start_time": "2025-10-23T17:56:32.376978Z"
    }
   },
   "cell_type": "code",
   "source": [
    "import numpy as np\n",
    "import matplotlib.pyplot as plt"
   ],
   "id": "db3c53ff92511416",
   "outputs": [],
   "execution_count": 56
  },
  {
   "metadata": {
    "ExecuteTime": {
     "end_time": "2025-10-23T18:04:10.415834Z",
     "start_time": "2025-10-23T18:04:10.411613Z"
    }
   },
   "cell_type": "code",
   "source": [
    "# Данные (точки и метки)\n",
    "x_train = np.array([\n",
    "    [10, 50], [20, 30], [25, 30], [20, 60],\n",
    "    [15, 70], [40, 40], [30, 45], [20, 45],\n",
    "    [40, 30], [7, 35]\n",
    "])\n",
    "y_train = np.array([-1, 1, 1, -1, -1, 1, 1, -1, 1, -1])\n",
    "\n",
    "# Параметры\n",
    "N = 100              # количество итераций\n",
    "η = 0.1              # шаг обучения (learning rate)\n",
    "w = np.zeros(2)      # начальные веса\n",
    "b = 0.0              # смещение (bias)\n"
   ],
   "id": "e4e8d8b986ad7c68",
   "outputs": [],
   "execution_count": 73
  },
  {
   "metadata": {
    "ExecuteTime": {
     "end_time": "2025-10-23T18:04:11.007810Z",
     "start_time": "2025-10-23T18:04:11.003068Z"
    }
   },
   "cell_type": "code",
   "source": [
    "for _ in range(N):\n",
    "    errors = 0\n",
    "    for x_i, y_i in zip(x_train, y_train):\n",
    "        a = w @ x_i + b\n",
    "        # Ошибка классификации → обновление весов\n",
    "        if y_i * a <= 0:             # если ошибка\n",
    "            w += η * y_i * x_i       # обновляем веса\n",
    "            b += η * y_i             # обновляем смещение\n",
    "            errors += 1\n",
    "    if errors == 0:\n",
    "        break\n",
    "\n",
    "print(\"Итоговые веса:\", w)\n",
    "print(\"Смещение:\", b)"
   ],
   "id": "ecce1fb0119f841e",
   "outputs": [
    {
     "name": "stdout",
     "output_type": "stream",
     "text": [
      "Итоговые веса: [ 9.5 -4.5]\n",
      "Смещение: 0.1\n"
     ]
    }
   ],
   "execution_count": 74
  },
  {
   "metadata": {
    "ExecuteTime": {
     "end_time": "2025-10-23T18:04:11.619953Z",
     "start_time": "2025-10-23T18:04:11.567803Z"
    }
   },
   "cell_type": "code",
   "source": [
    "# Визуализация\n",
    "x_0 = x_train[y_train == 1]\n",
    "x_1 = x_train[y_train == -1]\n",
    "\n",
    "plt.scatter(x_0[:, 0], x_0[:, 1], color='red', label='+1')\n",
    "plt.scatter(x_1[:, 0], x_1[:, 1], color='blue', label='-1')\n",
    "\n",
    "x_line = np.linspace(0, 45, 100)\n",
    "y_line = -(w[0] * x_line + b) / w[1]\n",
    "plt.plot(x_line, y_line, color='green', label='граница классификации')\n",
    "# Берём точку на линии (середину для красоты)\n",
    "x0 = 20\n",
    "y0 = -(w[0]*x0 + b)/w[1]\n",
    "\n",
    "# Нормализуем вектор, чтобы стрелка не была слишком длинной\n",
    "w_norm = w / np.sqrt((w.T @ w))\n",
    "\n",
    "# Рисуем стрелку нормали\n",
    "plt.arrow(x0, y0, w_norm[0]*5, w_norm[1]*5,\n",
    "          head_width=1.5, head_length=2, color='purple', label='вектор нормали')\n",
    "\n",
    "plt.xlim(0, 45)\n",
    "plt.ylim(0, 75)\n",
    "plt.xlabel(\"ширина\")\n",
    "plt.ylabel(\"длина\")\n",
    "plt.grid(True)\n",
    "plt.legend()\n",
    "plt.show()"
   ],
   "id": "5f8bb41dbb1ea8d5",
   "outputs": [
    {
     "data": {
      "text/plain": [
       "<Figure size 640x480 with 1 Axes>"
      ],
      "image/png": "[encoded data removed]"
     },
     "metadata": {},
     "output_type": "display_data"
    }
   ],
   "execution_count": 75
  },
  {
   "metadata": {},
   "cell_type": "code",
   "outputs": [],
   "execution_count": null,
   "source": "",
   "id": "65ae7e39e04fbba3"
  }
 ],
 "metadata": {
  "kernelspec": {
   "display_name": "Python 3",
   "language": "python",
   "name": "python3"
  },
  "language_info": {
   "codemirror_mode": {
    "name": "ipython",
    "version": 2
   },
   "file_extension": ".py",
   "mimetype": "text/x-python",
   "name": "python",
   "nbconvert_exporter": "python",
   "pygments_lexer": "ipython2",
   "version": "2.7.6"
  }
 },
 "nbformat": 4,
 "nbformat_minor": 5
}
